{
 "cells": [
  {
   "cell_type": "code",
   "execution_count": null,
   "id": "f1eb9709",
   "metadata": {},
   "outputs": [],
   "source": [
    "# q3_dino_diffusion.py\n",
    "\n",
    "from diffusion.ddpm import DiffusionModel\n",
    "from torchvision.datasets import ImageFolder\n",
    "from torchvision import transforms\n",
    "from torch.utils.data import DataLoader\n",
    "\n",
    "transform = transforms.Compose([\n",
    "    transforms.Resize(64),\n",
    "    transforms.ToTensor()\n",
    "])\n",
    "\n",
    "dataset = ImageFolder('data/dino_dataset/', transform=transform)\n",
    "loader = DataLoader(dataset, batch_size=64, shuffle=True)\n",
    "\n",
    "model = DiffusionModel(img_size=64).to(device)\n",
    "\n",
    "# Training loop\n",
    "for epoch in range(num_epochs):\n",
    "    for batch in loader:\n",
    "        imgs, _ = batch\n",
    "        imgs = imgs.to(device)\n",
    "        loss = model(imgs)\n",
    "        optimizer.zero_grad()\n",
    "        loss.backward()\n",
    "        optimizer.step()\n",
    "\n",
    "# Sampling\n",
    "samples = model.sample(n=16)\n",
    "save_image(samples, \"outputs/dino_samples.png\")\n"
   ]
  }
 ],
 "metadata": {
  "language_info": {
   "name": "python"
  }
 },
 "nbformat": 4,
 "nbformat_minor": 5
}
