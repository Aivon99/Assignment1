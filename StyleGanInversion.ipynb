{
 "cells": [
  {
   "cell_type": "code",
   "execution_count": null,
   "id": "45271719",
   "metadata": {},
   "outputs": [],
   "source": [
    "# q2_stylegan_inversion_mse.py\n",
    "\n",
    "import torch\n",
    "from torchvision import transforms\n",
    "from torchvision.utils import save_image\n",
    "from tqdm import tqdm\n",
    "from models.stylegan2 import Generator  # Update import as needed\n",
    "from losses import cosine_loss, lpips_loss  # Assume LPIPS is wrapped\n",
    "\n",
    "device = 'cuda'\n",
    "latent_dim = 512\n",
    "image_size = 1024\n",
    "G = Generator(image_size).to(device).eval()  # Pretrained StyleGAN2\n",
    "transform = transforms.Compose([\n",
    "    transforms.Resize(image_size),\n",
    "    transforms.CenterCrop(image_size),\n",
    "    transforms.ToTensor()\n",
    "])\n",
    "\n",
    "# Load 20 real images (faces)\n",
    "real_images = load_images_from_folder(\"data/faces\", num_images=20, transform=transform).to(device)\n",
    "\n",
    "results = {'z': [], 'w': [], 'w+': []}\n",
    "metrics = {'z': [], 'w': [], 'w+': []}\n",
    "\n",
    "def invert_image(img, space='z'):\n",
    "    if space == 'z':\n",
    "        latent = torch.randn(1, latent_dim, requires_grad=True, device=device)\n",
    "    elif space == 'w':\n",
    "        latent = torch.randn(1, latent_dim, requires_grad=True, device=device)\n",
    "    elif space == 'w+':\n",
    "        latent = torch.randn(1, 18, latent_dim, requires_grad=True, device=device)\n",
    "\n",
    "    optimizer = torch.optim.Adam([latent], lr=0.01)\n",
    "    for _ in range(1000):\n",
    "        optimizer.zero_grad()\n",
    "        generated = G(latent, input_is_latent=True)\n",
    "        loss = torch.nn.functional.mse_loss(generated, img.unsqueeze(0))\n",
    "        loss.backward()\n",
    "        optimizer.step()\n",
    "    return latent.detach(), generated.detach()\n",
    "\n",
    "for space in ['z', 'w', 'w+']:\n",
    "    for i, img in enumerate(tqdm(real_images)):\n",
    "        z_opt, gen = invert_image(img, space)\n",
    "        diff = (img - gen.squeeze()).abs()\n",
    "        lpips_val = lpips_loss(img.unsqueeze(0), gen).item()\n",
    "        cosine = cosine_loss(img, gen).item()\n",
    "        l2 = torch.nn.functional.mse_loss(img, gen.squeeze()).item()\n",
    "        metrics[space].append((l2, lpips_val, cosine))\n",
    "        save_image(gen, f\"outputs/q2/{space}_{i}_gen.png\")\n",
    "\n",
    "# Calculate avg/std\n",
    "for space in metrics:\n",
    "    arr = torch.tensor(metrics[space])\n",
    "    mean = arr.mean(dim=0)\n",
    "    std = arr.std(dim=0)\n",
    "    print(f\"{space.upper()} - L2: {mean[0]:.4f}±{std[0]:.4f}, LPIPS: {mean[1]:.4f}±{std[1]:.4f}, Cosine: {mean[2]:.4f}±{std[2]:.4f}\")\n"
   ]
  },
  {
   "cell_type": "code",
   "execution_count": null,
   "id": "789dc881",
   "metadata": {},
   "outputs": [],
   "source": [
    "# q2_stylegan_custom_loss.py\n",
    "\n",
    "# Assume imports and model setup same as above\n",
    "\n",
    "def custom_loss(x, y, alpha=1.0, beta=0.8, gamma=0.3):\n",
    "    mse = torch.nn.functional.mse_loss(x, y)\n",
    "    cos = cosine_loss(x, y)\n",
    "    lp = lpips_loss(x, y)\n",
    "    return alpha * mse + beta * lp + gamma * cos\n",
    "\n",
    "# Repeat similar loop as in Script 1 but using `custom_loss(...)` instead\n"
   ]
  },
  {
   "cell_type": "code",
   "execution_count": 1,
   "id": "e8926bd7",
   "metadata": {},
   "outputs": [
    {
     "ename": "NameError",
     "evalue": "name 'invert_to_w_plus' is not defined",
     "output_type": "error",
     "traceback": [
      "\u001b[1;31m---------------------------------------------------------------------------\u001b[0m",
      "\u001b[1;31mNameError\u001b[0m                                 Traceback (most recent call last)",
      "Cell \u001b[1;32mIn[1], line 4\u001b[0m\n\u001b[0;32m      1\u001b[0m \u001b[38;5;66;03m# q2_stylegan_crossover.py\u001b[39;00m\n\u001b[0;32m      2\u001b[0m \n\u001b[0;32m      3\u001b[0m \u001b[38;5;66;03m# Load two images: content and style\u001b[39;00m\n\u001b[1;32m----> 4\u001b[0m z_content \u001b[38;5;241m=\u001b[39m \u001b[43minvert_to_w_plus\u001b[49m(img_content)\n\u001b[0;32m      5\u001b[0m z_style \u001b[38;5;241m=\u001b[39m invert_to_w_plus(img_style)\n\u001b[0;32m      7\u001b[0m \u001b[38;5;66;03m# Split A: content (layers 1–9), style (10–18)\u001b[39;00m\n",
      "\u001b[1;31mNameError\u001b[0m: name 'invert_to_w_plus' is not defined"
     ]
    }
   ],
   "source": [
    "# q2_stylegan_crossover.py\n",
    "\n",
    "# Load two images: content and style\n",
    "z_content = invert_to_w_plus(img_content)\n",
    "z_style = invert_to_w_plus(img_style)\n",
    "\n",
    "# Split A: content (layers 1–9), style (10–18)\n",
    "z_mix_a = torch.cat([z_content[:, :9], z_style[:, 9:]], dim=1)\n",
    "# Split B: style (1–9), content (10–18)\n",
    "z_mix_b = torch.cat([z_style[:, :9], z_content[:, 9:]], dim=1)\n",
    "\n",
    "# Generate images\n",
    "img_A = G(z_mix_a, input_is_latent=True)\n",
    "img_B = G(z_mix_b, input_is_latent=True)\n",
    "\n",
    "# Compute metrics between Ic/Is and IA/IB, etc.\n"
   ]
  },
  {
   "cell_type": "code",
   "execution_count": null,
   "id": "bb976f00",
   "metadata": {},
   "outputs": [],
   "source": []
  },
  {
   "cell_type": "code",
   "execution_count": null,
   "id": "9feb14f6",
   "metadata": {},
   "outputs": [],
   "source": []
  }
 ],
 "metadata": {
  "kernelspec": {
   "display_name": "Python 3",
   "language": "python",
   "name": "python3"
  },
  "language_info": {
   "codemirror_mode": {
    "name": "ipython",
    "version": 3
   },
   "file_extension": ".py",
   "mimetype": "text/x-python",
   "name": "python",
   "nbconvert_exporter": "python",
   "pygments_lexer": "ipython3",
   "version": "3.12.10"
  }
 },
 "nbformat": 4,
 "nbformat_minor": 5
}
